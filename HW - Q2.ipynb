{
 "cells": [
  {
   "cell_type": "markdown",
   "id": "19d209f4",
   "metadata": {},
   "source": [
    "# 2 The gambler problem (3 pts.)\n",
    "\n",
    "Consider the following problem, introduced in Chapter 4 of the Sutton and Barto book.  \n",
    "\n",
    "A gambler is engaged in a betting game, where he must place bets on the outcomes of a sequence of coin\n",
    "flips. Before each flip, the gambler decides how much to bet on the outcome that the coin will come up\n",
    "heads—note that he can only decide how much to bet, not in which outcome to bet.  \n",
    "\n",
    "If the coin does come up heads, the gambler doubles the money bet on that coin flip—in other words,\n",
    "if the gambler bets $5 dollars, he will get his 5 dollars back plus another 5 dollars. If the coin comes up\n",
    "tails, the gambler loses the money he bet. The game goes on until either the gambler reaches his goal of\n",
    "100 dollars, or loses by running out of money. On each flip, the gambler must decide what portion of his\n",
    "capital to stake, in integer numbers of dollars. Suppose that the probability of the coin coming up heads is\n",
    "pH = 0.4.  \n",
    "\n",
    "You will analyze the optimal betting policy for the gambler. To do so, model the gambler’s decision\n",
    "problem as an MDP, specifying the state and action spaces, the transition probabilities and the reward\n",
    "function. Make sure to use a reward function that only rewards the gambler for reaching his goal. Use a\n",
    "discount γ = 1.  \n",
    "\n",
    "**Question 2. Using the MDP model for the gambler problem, run value iteration. Plot, in the\n",
    "same plot, the computed estimate for the optimal value function at iterations 1, 2, 3 and final (stop your\n",
    "algorithm when the overall error is smaller than 10−8). Can you provide an interpretation for the values\n",
    "obtained? Plot also the optimal policy computed.**  \n",
    "\n",
    "Note: The gambler problem is somewhat numerically unstable, so to compute the optimal policy make\n",
    "sure to rounded up all values to 4 decimal places.**"
   ]
  },
  {
   "cell_type": "code",
   "execution_count": 1,
   "id": "e164ce2b",
   "metadata": {
    "ExecuteTime": {
     "end_time": "2021-11-03T14:11:26.319360Z",
     "start_time": "2021-11-03T14:11:26.302359Z"
    }
   },
   "outputs": [],
   "source": [
    "# Useful links:\n",
    "\n",
    "# http://www.incompleteideas.net/book/first/ebook/node44.html\n",
    "# We can initialize the problem as undiscounted and having only the goal state with reward 1"
   ]
  },
  {
   "cell_type": "code",
   "execution_count": 26,
   "id": "c00af484",
   "metadata": {
    "ExecuteTime": {
     "end_time": "2021-11-03T15:50:46.530585Z",
     "start_time": "2021-11-03T15:50:46.513817Z"
    }
   },
   "outputs": [],
   "source": [
    "import numpy as np\n",
    "import pandas as pd\n",
    "import matplotlib.pyplot as plt\n",
    "\n",
    "import copy"
   ]
  },
  {
   "cell_type": "code",
   "execution_count": 169,
   "id": "a4e24f12",
   "metadata": {
    "ExecuteTime": {
     "end_time": "2021-11-03T16:47:42.682913Z",
     "start_time": "2021-11-03T16:47:42.655909Z"
    },
    "code_folding": []
   },
   "outputs": [],
   "source": [
    "# Define a gambler class\n",
    "\n",
    "class Gambler(object):\n",
    "    \n",
    "    def __init__(self, initial_budget=5, budget_goal=100, prob_heads=0.4, discount=1.0, error=10e-8):\n",
    "        \n",
    "        # Initialize the gambler's budget\n",
    "        self.budget = int(initial_budget)\n",
    "        \n",
    "        # Initialize the target budget\n",
    "        self.goal = int(budget_goal)\n",
    "        \n",
    "        # Initialize the probability of winning the coin flip\n",
    "        self.prob_win = float(prob_heads)\n",
    "        \n",
    "        # Possible states: every value between 0 and 100, including\n",
    "        self.states = np.arange(budget_goal + 1)\n",
    "        \n",
    "        # State values - Budget goal has maximum value\n",
    "        self.state_values = np.zeros(budget_goal + 1)\n",
    "        self.state_values[budget_goal] = 1\n",
    "        \n",
    "        # Discount factor. 1 is undiscounted\n",
    "        self.discount = float(discount)\n",
    "        \n",
    "        # Error initialization\n",
    "        self.error = float(error)\n",
    "        \n",
    "        # History placeholder\n",
    "        self.history = []\n",
    "        \n",
    "        # Optimal policy\n",
    "        self.optimal_policy = None\n",
    "        \n",
    "        # Get policy dataframe\n",
    "        self.policy_df = None\n",
    "        \n",
    "        # Last Earnings\n",
    "        self.last_earnings = None\n",
    "        \n",
    "        # Last budget\n",
    "        self.last_budget = None\n",
    "        \n",
    "        # Play result\n",
    "        self.play_result = None\n",
    "        \n",
    "        \n",
    "    def value_iteration(self):\n",
    "        \n",
    "        iteration = 0\n",
    "        self.history.append(copy.deepcopy(self.state_values))\n",
    "        \n",
    "        # Value iteration\n",
    "        while True:\n",
    "            delta = np.zeros(len(self.states))\n",
    "\n",
    "            # We don't want to bet 0\n",
    "            for state in self.states[1:-1]:\n",
    "                current_value = self.state_values[state]\n",
    "                #print(state)\n",
    "\n",
    "                # Possible actions: betting between 1 and current budget (state)\n",
    "                # If we have 95, we want to bet only 5 at max (goal - current state)\n",
    "                current_actions = np.arange(min(state, self.goal - state) + 1)\n",
    "                # print('State: {} \\n Possible bets: {}'.format(state, current_actions))\n",
    "\n",
    "                # What are the states we can end up in?\n",
    "                # I.e. if we have 10 dollars, we can end up from any value from 0 to 10 + bet_amount\n",
    "                # Calculated by following the transitions to the immediate next states.\n",
    "                # I.e. sum of current action * the probability of following it and alternative action + probability of follow\n",
    "\n",
    "                # We get an array of values for each next possible state\n",
    "                state_prime_values = []\n",
    "                for action in current_actions:\n",
    "                    # the state we end up in is either budget + bet or budget - bet\n",
    "                    # in this case is 0.4 * (budget + bet) or 0.6 * (budget - bet)\n",
    "                    state_prime_win = self.prob_win * self.state_values[state + action]\n",
    "                    state_prime_lose = (1 - self.prob_win) * self.state_values[state - action]\n",
    "                    state_prime = state_prime_win + state_prime_lose\n",
    "\n",
    "                    #print('State prime: {}'.format(state_prime))\n",
    "\n",
    "                    # Add to possible state values\n",
    "                    state_prime_values.append(state_prime)\n",
    "                # print(state_prime_values)\n",
    "                best_value = np.max(state_prime_values)\n",
    "                #print(best_value)\n",
    "\n",
    "                # Calculate the error for finishing the iteration\n",
    "                current_delta = np.abs(current_value - best_value)\n",
    "                delta[state] = max(delta[state], current_delta)\n",
    "                #print(delta)\n",
    "                \n",
    "                # Update the value of the current state\n",
    "                self.state_values[state] = best_value\n",
    "                \n",
    "                history = delta\n",
    "                \n",
    "            self.history.append(copy.deepcopy(self.state_values))\n",
    "\n",
    "            if max(delta) < self.error:\n",
    "                break\n",
    "                \n",
    "            \n",
    "    def get_optimal_policy(self):\n",
    "        # Get the policy\n",
    "        # Optimal policy can be found by maximizing over q*(s, a)\n",
    "        # We already have values of states, found by value iteration\n",
    "        # v*(s) = max q*(s, a) over actions\n",
    "        # Just need to pick the best action for each state\n",
    "        \n",
    "        policy_state = np.zeros(len(self.states))\n",
    "        for state in self.states[1:]:\n",
    "            # Get the action space for each state\n",
    "            current_actions = np.arange(min(state, self.goal - state) + 1)\n",
    "            \n",
    "            \n",
    "            # We get an array of values for each next possible state\n",
    "            state_prime_values = []\n",
    "            \n",
    "            # Get the updated value for each action - calculated from value iteration\n",
    "            # The best policy is the policy that maximizes the value of state and action\n",
    "            for action in current_actions:\n",
    "                state_prime_win = self.prob_win * self.state_values[state + action]\n",
    "                state_prime_lose = (1 - self.prob_win) * self.state_values[state - action]\n",
    "                state_prime = state_prime_win + state_prime_lose\n",
    "                \n",
    "                state_prime_values.append(state_prime)\n",
    "                \n",
    "            #print(state_prime_values)\n",
    "            \n",
    "            if (state == 0) or (state == 100):\n",
    "                pass\n",
    "            else:\n",
    "                # Needed to add +1 because we're working with state_prime_values[1:]\n",
    "                policy_state[state] = 1 + np.argmax(np.round(state_prime_values[1:], 4))\n",
    "            \n",
    "        self.optimal_policy = policy_state\n",
    "        \n",
    "        \n",
    "    def get_policy_df(self):\n",
    "        if self.optimal_policy is not None:\n",
    "            self.policy_df = pd.DataFrame(self.optimal_policy.reshape(1, -1), columns=['Have {:003d}'.format(i) \n",
    "                                                                                       for i in np.arange(len(self.states))])\n",
    "        return\n",
    "        \n",
    "        \n",
    "    # Create an agent to follow the optimal policy created\n",
    "    def play(self):\n",
    "        \n",
    "        previous_budget = None\n",
    "        earnings = []\n",
    "        budget = []\n",
    "        \n",
    "        # print('Starting with {} dollars'.format(self.budget))\n",
    "        \n",
    "        while True:\n",
    "            if (self.budget == 0):\n",
    "                # print('You lose!')\n",
    "                self.play_result = 'Lose'\n",
    "                break\n",
    "            elif (self.budget == 100):\n",
    "                # print('You win!')\n",
    "                self.play_result = 'Win'\n",
    "                break\n",
    "            else:\n",
    "                next_action = int(self.optimal_policy[self.budget])\n",
    "                current_budget = self.budget\n",
    "                \n",
    "                if np.random.random(size=1) <= self.prob_win:\n",
    "                    current_budget += next_action\n",
    "                    earnings.append(next_action)\n",
    "                    budget.append(current_budget)\n",
    "                    # print('Agent won {} dolars! - Budget: {}'.format(next_action, current_budget))\n",
    "                else:\n",
    "                    current_budget -= next_action\n",
    "                    earnings.append(-next_action)\n",
    "                    budget.append(current_budget)\n",
    "                    # print('Agent lost {} dolars! - Budget: {}'.format(next_action, current_budget))\n",
    "                    \n",
    "                if current_budget == self.budget:\n",
    "                    # print('Agent got stuck, exiting')\n",
    "                    self.play_result = 'Stuck'\n",
    "                    break\n",
    "                \n",
    "                self.budget = current_budget\n",
    "        \n",
    "        self.last_budget = budget\n",
    "        self.last_earnings = earnings\n",
    "            \n",
    "        return\n",
    "        \n",
    "        \n",
    "    def gamble(self):\n",
    "        self.value_iteration()\n",
    "        self.get_optimal_policy()\n",
    "        self.get_policy_df()\n",
    "        self.play()\n",
    "        \n",
    "        return"
   ]
  },
  {
   "cell_type": "code",
   "execution_count": 170,
   "id": "58ad3f6b",
   "metadata": {
    "ExecuteTime": {
     "end_time": "2021-11-03T16:47:43.153403Z",
     "start_time": "2021-11-03T16:47:43.113395Z"
    }
   },
   "outputs": [],
   "source": [
    "# Example Gambler\n",
    "\n",
    "example = Gambler(initial_budget=50)\n",
    "example.gamble()"
   ]
  },
  {
   "cell_type": "code",
   "execution_count": 171,
   "id": "eb5c438c",
   "metadata": {
    "ExecuteTime": {
     "end_time": "2021-11-03T16:47:44.747176Z",
     "start_time": "2021-11-03T16:47:44.579926Z"
    }
   },
   "outputs": [
    {
     "data": {
      "image/png": "[encoded data removed]",
      "text/plain": [
       "<Figure size 1440x576 with 2 Axes>"
      ]
     },
     "metadata": {
      "needs_background": "light"
     },
     "output_type": "display_data"
    }
   ],
   "source": [
    "# Plot the first four iterations (including initial values) of history of the example and the optimal policy\n",
    "\n",
    "fig, axs = plt.subplots(ncols=1, nrows=2, figsize=(20, 8))\n",
    "\n",
    "# first plot is iterations\n",
    "axs[0].step(np.arange(101), example.history[0])\n",
    "axs[0].step(np.arange(101), example.history[1])\n",
    "axs[0].step(np.arange(101), example.history[2])\n",
    "axs[0].step(np.arange(101), example.history[3])\n",
    "axs[0].legend(['Iteration 0', 'Iteration 1', 'Iteration 2', 'Iteration 3'])\n",
    "axs[0].set_title('Value Iteration - First 4 iterations')\n",
    "axs[0].set_xlabel('Budget')\n",
    "axs[1].set_ylabel('Value Estimate')\n",
    "\n",
    "axs[1].step(np.arange(101), example.optimal_policy)\n",
    "axs[1].legend(['Optimal Policy'])\n",
    "axs[1].set_title('Optimal Policy Found')\n",
    "axs[1].set_xlabel('Budget')\n",
    "axs[1].set_ylabel('Best bet')\n",
    "\n",
    "plt.tight_layout()\n",
    "plt.show()"
   ]
  },
  {
   "cell_type": "code",
   "execution_count": 172,
   "id": "3aef07e5",
   "metadata": {
    "ExecuteTime": {
     "end_time": "2021-11-03T16:48:20.995984Z",
     "start_time": "2021-11-03T16:47:49.916385Z"
    }
   },
   "outputs": [
    {
     "data": {
      "application/vnd.jupyter.widget-view+json": {
       "model_id": "9366eaf222cb47e2b452d7a549b000d7",
       "version_major": 2,
       "version_minor": 0
      },
      "text/plain": [
       "  0%|          | 0/1000 [00:00<?, ?it/s]"
      ]
     },
     "metadata": {},
     "output_type": "display_data"
    }
   ],
   "source": [
    "# Play 1000 games, with the initial values being randomized between 1 and 99\n",
    "\n",
    "import tqdm\n",
    "\n",
    "GAMBLE_RUNS = 1000\n",
    "gamble_history = {}\n",
    "\n",
    "for i in tqdm.notebook.trange(1, GAMBLE_RUNS + 1):\n",
    "    gambler = Gambler(initial_budget=np.random.randint(1, 99))\n",
    "    \n",
    "    gambler.gamble()\n",
    "    \n",
    "    gamble_history['Gambler {:0004d}'.format(i)] = gambler"
   ]
  },
  {
   "cell_type": "code",
   "execution_count": 173,
   "id": "0abd0997",
   "metadata": {
    "ExecuteTime": {
     "end_time": "2021-11-03T16:48:22.412678Z",
     "start_time": "2021-11-03T16:48:22.349449Z"
    }
   },
   "outputs": [
    {
     "data": {
      "image/png": "[encoded data removed]",
      "text/plain": [
       "<Figure size 432x288 with 1 Axes>"
      ]
     },
     "metadata": {
      "needs_background": "light"
     },
     "output_type": "display_data"
    }
   ],
   "source": [
    "# let's analyse the game results\n",
    "\n",
    "n_wins = 0\n",
    "n_losses = 0\n",
    "n_stuck = 0\n",
    "\n",
    "for run in gamble_history:\n",
    "    current_gambler = gamble_history[run]\n",
    "    \n",
    "    if current_gambler.play_result == 'Win':\n",
    "        n_wins += 1\n",
    "    elif current_gambler.play_result == 'Lose':\n",
    "        n_losses += 1\n",
    "    elif current_gambler.play_result == 'Stuck':\n",
    "        n_stuck += 1\n",
    "        \n",
    "df = pd.DataFrame({'Wins': n_wins,\n",
    "                   'Losses': n_losses,\n",
    "                   'Stuck': n_stuck}, index=['Freq'])\n",
    "\n",
    "df.transpose().plot(kind='bar')\n",
    "plt.show()"
   ]
  },
  {
   "cell_type": "code",
   "execution_count": null,
   "id": "4c905ab3",
   "metadata": {},
   "outputs": [],
   "source": []
  }
 ],
 "metadata": {
  "kernelspec": {
   "display_name": "Python 3 (ipykernel)",
   "language": "python",
   "name": "python3"
  },
  "language_info": {
   "codemirror_mode": {
    "name": "ipython",
    "version": 3
   },
   "file_extension": ".py",
   "mimetype": "text/x-python",
   "name": "python",
   "nbconvert_exporter": "python",
   "pygments_lexer": "ipython3",
   "version": "3.8.0"
  },
  "varInspector": {
   "cols": {
    "lenName": 16,
    "lenType": 16,
    "lenVar": 40
   },
   "kernels_config": {
    "python": {
     "delete_cmd_postfix": "",
     "delete_cmd_prefix": "del ",
     "library": "var_list.py",
     "varRefreshCmd": "print(var_dic_list())"
    },
    "r": {
     "delete_cmd_postfix": ") ",
     "delete_cmd_prefix": "rm(",
     "library": "var_list.r",
     "varRefreshCmd": "cat(var_dic_list()) "
    }
   },
   "types_to_exclude": [
    "module",
    "function",
    "builtin_function_or_method",
    "instance",
    "_Feature"
   ],
   "window_display": false
  }
 },
 "nbformat": 4,
 "nbformat_minor": 5
}
